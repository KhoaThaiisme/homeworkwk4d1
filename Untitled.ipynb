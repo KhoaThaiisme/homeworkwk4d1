{
 "cells": [
  {
   "cell_type": "code",
   "execution_count": 25,
   "id": "aac52d56",
   "metadata": {},
   "outputs": [
    {
     "data": {
      "text/plain": [
       "'theStealthWarrior'"
      ]
     },
     "execution_count": 25,
     "metadata": {},
     "output_type": "execute_result"
    }
   ],
   "source": [
    "# Complete the method/function so that it converts dash/underscore delimited words \n",
    "# into camel casing. The first word within the output should be capitalized only if \n",
    "# the original word was capitalized (known as Upper Camel Case, also often referred \n",
    "# to as Pascal case). The next words should be always capitalized.\n",
    "\n",
    "import re\n",
    "\n",
    "def to_camel_case(text):\n",
    "    word = re.split(r'[-_]', text) #O(N)\n",
    "    \n",
    "    if word[0][0].isupper(): #O(1)\n",
    "        word[0] = word[0][0] + word[0][1:].lower() #O(1)\n",
    "        \n",
    "    for i in range(1, len(word)): #(N)\n",
    "        word[i] = word[i][0].upper() + word[i][1:].lower() #O(1)\n",
    "        \n",
    "    return(''.join(word)) #O(N)\n",
    "\n",
    "# time complexity is O(N)\n",
    "\n",
    "to_camel_case(\"the-stealth_warrior\")"
   ]
  },
  {
   "cell_type": "code",
   "execution_count": 26,
   "id": "ad36ec02",
   "metadata": {},
   "outputs": [
    {
     "name": "stdout",
     "output_type": "stream",
     "text": [
      "1.7 µs ± 11.4 ns per loop (mean ± std. dev. of 7 runs, 1,000,000 loops each)\n"
     ]
    }
   ],
   "source": [
    "%timeit to_camel_case(\"the-stealth_warrior\")"
   ]
  },
  {
   "cell_type": "code",
   "execution_count": 43,
   "id": "bb0b9f22",
   "metadata": {},
   "outputs": [
    {
     "name": "stdout",
     "output_type": "stream",
     "text": [
      ";D\n",
      ":-(\n",
      ":-)\n",
      ";~)\n"
     ]
    },
    {
     "data": {
      "text/plain": [
       "3"
      ]
     },
     "execution_count": 43,
     "metadata": {},
     "output_type": "execute_result"
    }
   ],
   "source": [
    "# Given an array (arr) as an argument complete the function countSmileys that should return the total number of smiling faces.\n",
    "\n",
    "# Rules for a smiling face:\n",
    "\n",
    "# Each smiley face must contain a valid pair of eyes. Eyes can be marked as : or ;\n",
    "# A smiley face can have a nose but it does not have to. Valid characters for a nose are - or ~\n",
    "# Every smiling face must have a smiling mouth that should be marked with either ) or D\n",
    "# No additional characters are allowed except for those mentioned.\n",
    "\n",
    "# Valid smiley face examples: :) :D ;-D :~)\n",
    "# Invalid smiley faces: ;( :> :} :]\n",
    "\n",
    "# Example\n",
    "# countSmileys([':)', ';(', ';}', ':-D']);       // should return 2;\n",
    "# countSmileys([';D', ':-(', ':-)', ';~)']);     // should return 3;\n",
    "# countSmileys([';]', ':[', ';*', ':$', ';-D']); // should return 1;\n",
    "# Note\n",
    "# In case of an empty array return 0. You will not be tested with invalid input (input will always be an array). Order of the face (eyes, nose, mouth) elements will always be the same.\n",
    "\n",
    "def count_smileys(arr):\n",
    "    count = 0\n",
    "    smiley = re.compile('[D)]')\n",
    "    \n",
    "    for e in arr: #O(N)\n",
    "        for s in e: #O(N)\n",
    "            if smiley.match(s): #O(1)\n",
    "                count += 1 #O(1)\n",
    "        print(e)\n",
    "    return count\n",
    "\n",
    "#time complexity is O(N^2) quadratic\n",
    "\n",
    "count_smileys([';D', ':-(', ':-)', ';~)'])"
   ]
  },
  {
   "cell_type": "code",
   "execution_count": 52,
   "id": "26be9910",
   "metadata": {},
   "outputs": [
    {
     "data": {
      "text/plain": [
       "3"
      ]
     },
     "execution_count": 52,
     "metadata": {},
     "output_type": "execute_result"
    }
   ],
   "source": [
    "\n",
    "# In this kata, the number 0 is infected. You are given a list. Every turn, any item in the list that is adjacent to a 0 becomes infected and transforms into a 0. How many turns will it take for the whole list to become infected?\n",
    "\n",
    "# [0,1,1,0] ==> [0,0,0,0] \n",
    "# All infected in 1 turn.\n",
    "\n",
    "# [1,1,0,1,1] --> [1,0,0,0,1] --> [0,0,0,0,0]\n",
    "# All infected in 2 turns\n",
    "\n",
    "# [0,1,1,1] --> [0,0,1,1] --> [0,0,0,1] --> [0,0,0,0]\n",
    "# All infected in 3 turns.\n",
    "# All lists will contain at least one item, and at least one zero, and the only items will be 0s and 1s. Lists may be very very long, so pure brute force approach will not work.\n",
    "\n",
    "def infected_zeroes(alist):\n",
    "    new_infected = [i for i in range(len(alist)) if alist[i] == 0]\n",
    "    turns = 0\n",
    "    while len(new_infected) < len(alist):\n",
    "        for i in new_infected:\n",
    "            if i > 0 and alist[i - 1] != 0:\n",
    "                new_infected.append(alist[i-1])\n",
    "            elif i > 0 and alist[i + 1] != 0:\n",
    "                new_infected.append(alist[i+1])\n",
    "            turns += 1\n",
    "#             print(new_infected)\n",
    "    return turns\n",
    "\n",
    "infected = infected_zeroes([0,1,1,0])\n",
    "print(infected)\n",
    "    "
   ]
  },
  {
   "cell_type": "code",
   "execution_count": null,
   "id": "4099e422",
   "metadata": {},
   "outputs": [],
   "source": []
  }
 ],
 "metadata": {
  "kernelspec": {
   "display_name": "Python 3.11.2 64-bit",
   "language": "python",
   "name": "python3"
  },
  "language_info": {
   "codemirror_mode": {
    "name": "ipython",
    "version": 3
   },
   "file_extension": ".py",
   "mimetype": "text/x-python",
   "name": "python",
   "nbconvert_exporter": "python",
   "pygments_lexer": "ipython3",
   "version": "3.11.2"
  },
  "vscode": {
   "interpreter": {
    "hash": "aee8b7b246df8f9039afb4144a1f6fd8d2ca17a180786b69acc140d282b71a49"
   }
  }
 },
 "nbformat": 4,
 "nbformat_minor": 5
}
